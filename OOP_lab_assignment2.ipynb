{
  "nbformat": 4,
  "nbformat_minor": 0,
  "metadata": {
    "colab": {
      "name": "OOP_lab_2.ipynb",
      "provenance": [],
      "collapsed_sections": [],
      "authorship_tag": "ABX9TyPGbmU5+hVWotWYMkKrXDhD",
      "include_colab_link": true
    },
    "kernelspec": {
      "display_name": "Python 3",
      "name": "python3"
    },
    "language_info": {
      "name": "python"
    }
  },
  "cells": [
    {
      "cell_type": "markdown",
      "metadata": {
        "id": "view-in-github",
        "colab_type": "text"
      },
      "source": [
        "<a href=\"https://colab.research.google.com/github/Arjun-08/OOP-LabAssignment1/blob/main/OOP_lab_assignment2.ipynb\" target=\"_parent\"><img src=\"https://colab.research.google.com/assets/colab-badge.svg\" alt=\"Open In Colab\"/></a>"
      ]
    },
    {
      "cell_type": "code",
      "metadata": {
        "id": "LLd7YwIyTXPz"
      },
      "source": [
        ""
      ],
      "execution_count": null,
      "outputs": []
    },
    {
      "cell_type": "markdown",
      "metadata": {
        "id": "pvncnTFtTezj"
      },
      "source": [
        "# Problem-1"
      ]
    },
    {
      "cell_type": "code",
      "metadata": {
        "colab": {
          "base_uri": "https://localhost:8080/"
        },
        "id": "5Pf3VHsuTjAG",
        "outputId": "b63513e0-f556-47e3-d164-e37f374f55db"
      },
      "source": [
        "import math\n",
        "class Circle:\n",
        "    def __init__(self, radius):\n",
        "        self.radius = radius\n",
        "\n",
        "    def perimeter(self):\n",
        "        return (2 * math.pi * self.radius)\n",
        "\n",
        "    def area(self):\n",
        "        return (math.pi * (self.radius ** 2))\n",
        "\n",
        "c1 = Circle(3)\n",
        "print(c1.perimeter())\n",
        "print(c1.area())"
      ],
      "execution_count": null,
      "outputs": [
        {
          "name": "stdout",
          "output_type": "stream",
          "text": [
            "18.84955592153876\n",
            "28.274333882308138\n"
          ]
        }
      ]
    },
    {
      "cell_type": "markdown",
      "metadata": {
        "id": "Q5zFdvYkT8wN"
      },
      "source": [
        "# PROBLEM-2\n"
      ]
    },
    {
      "cell_type": "code",
      "metadata": {
        "colab": {
          "base_uri": "https://localhost:8080/"
        },
        "id": "7SglUo_kUEkk",
        "outputId": "237d607d-58d1-4a03-9b56-de15457d88f2"
      },
      "source": [
        "class TeachingFaculty:\n",
        "    # def _init_(self, name, emp_ID, branch, salary):\n",
        "    \n",
        "\n",
        "    def setData(self):\n",
        "        self.name = input(\"Enter the employee name : \")       #     self.name = name\n",
        "        self.emp_ID = int(input(\"Enter the employee ID : \"))  #     self.emp_ID = emp_ID\n",
        "        self.branch = input(\"Enter the branch name : \")       #     self.branch = branch\n",
        "        self.salary = int(input(\"Enter the salary : \"))       #     self.salary = salary\n",
        "\n",
        "    def getData(self):\n",
        "        print(f\"Name : {self.name} \\nEmployee ID : {self.emp_ID} \\nBranch : {self.branch} \\nSalary : {self.salary}\\n\")\n",
        "        return self.name, self.emp_ID, self.branch, self.salary\n",
        "\n",
        "# t1 = TeachingFaculty()\n",
        "listTF = []\n",
        "for i in range(1, 3):\n",
        "    temp = TeachingFaculty()\n",
        "    print(f\"\\nEnter the data for {i}th employee : \")\n",
        "    temp.setData()\n",
        "    listTF.append(temp)\n",
        "\n",
        "for i in range(0, 2):\n",
        "    print(f\"\\nData of {i+1}th employee : \")\n",
        "    listTF[i].getData()"
      ],
      "execution_count": 5,
      "outputs": [
        {
          "output_type": "stream",
          "name": "stdout",
          "text": [
            "\n",
            "Enter the data for 1th employee : \n",
            "Enter the employee name : RAM\n",
            "Enter the employee ID : 22\n",
            "Enter the branch name : CSE\n",
            "Enter the salary : 2000\n",
            "\n",
            "Enter the data for 2th employee : \n",
            "Enter the employee name : SHAM\n",
            "Enter the employee ID : 24\n",
            "Enter the branch name : ECE\n",
            "Enter the salary : 2220\n",
            "\n",
            "Data of 1th employee : \n",
            "Name : RAM \n",
            "Employee ID : 22 \n",
            "Branch : CSE \n",
            "Salary : 2000\n",
            "\n",
            "\n",
            "Data of 2th employee : \n",
            "Name : SHAM \n",
            "Employee ID : 24 \n",
            "Branch : ECE \n",
            "Salary : 2220\n",
            "\n"
          ]
        }
      ]
    },
    {
      "cell_type": "markdown",
      "metadata": {
        "id": "H7ByHrS6UNKW"
      },
      "source": [
        "# Problem-3"
      ]
    },
    {
      "cell_type": "code",
      "metadata": {
        "colab": {
          "base_uri": "https://localhost:8080/"
        },
        "id": "Rj5RQTrlUPsa",
        "outputId": "0f214c35-e613-4d93-da74-a32418d1bc9a"
      },
      "source": [
        "class Account:\n",
        "    def __init__(self, accNo, accHolder, amount):\n",
        "        self.accountNumber = accNo\n",
        "        self.accountHolder = accHolder\n",
        "        self.accountAmount = amount\n",
        "\n",
        "    def deposit(self):\n",
        "        depAmount = int(input(\"Enter the amount to deposit : \"))\n",
        "        self.accountAmount += depAmount\n",
        "        print(f\"Amount deposited : {depAmount} \\nNew Balance : {self.accountAmount}\")\n",
        "\n",
        "    def withdraw(self):\n",
        "        withAmount = int(input(\"Enter the amount to withdraw : \"))\n",
        "        if withAmount > self.accountAmount:\n",
        "            print(\"Cannot withdraw more than savings.\")\n",
        "            return -1\n",
        "        self.accountAmount -= withAmount\n",
        "        print(f\"Amount withdraw : {withAmount} \\nNew Balance = {self.accountAmount}\")\n",
        "        return withAmount\n",
        "\n",
        "    def checkBalance(self):\n",
        "        print(f\"Balance : {self.accountAmount}\")\n",
        "        return self.accountAmount\n",
        "\n",
        "    def getDetails(self):\n",
        "        print(f\"\\nAccount Number : {self.accountNumber} \\nAccount Holder : {self.accountHolder} \\nBalance : {self.accountAmount}\")\n",
        "        return self.accountNumber, self.accountHolder, self.accountAmount\n",
        "\n",
        "a1 = Account(506765, \"ABHI K\", 500)\n",
        "a1.deposit()\n",
        "withdraw = a1.withdraw()\n",
        "# print(withdraw)\n",
        "balance = a1.checkBalance()\n",
        "# print(balance)\n",
        "details = a1.getDetails()\n",
        "# print(details)"
      ],
      "execution_count": null,
      "outputs": [
        {
          "name": "stdout",
          "output_type": "stream",
          "text": [
            "Enter the amount to deposit : 100\n",
            "Amount deposited : 100 \n",
            "New Balance : 600\n",
            "Enter the amount to withdraw : 500\n",
            "Amount withdraw : 500 \n",
            "New Balance = 100\n",
            "Balance : 100\n",
            "\n",
            "Account Number : 506765 \n",
            "Account Holder : ABHI K \n",
            "Balance : 100\n"
          ]
        }
      ]
    },
    {
      "cell_type": "markdown",
      "metadata": {
        "id": "Fmc-CFBJUgo6"
      },
      "source": [
        "# Problem-4"
      ]
    },
    {
      "cell_type": "code",
      "metadata": {
        "colab": {
          "base_uri": "https://localhost:8080/"
        },
        "id": "TNvwMpyfUkEs",
        "outputId": "fb2c1ea4-57a0-4b50-8240-bc8a0366c5a8"
      },
      "source": [
        "class Records:\n",
        "\n",
        "    def setData(self):\n",
        "        self.name = input(\"Enter the name of the student : \")\n",
        "        self.ID = int(input(\"Enter the USN of the student : \"))\n",
        "        self.marks = []\n",
        "        for i in range(1, 4):\n",
        "            marks = input(f\"Enter the marks for subject {i} : \")\n",
        "            self.marks.append(marks)\n",
        "\n",
        "    def getData(self):\n",
        "        print(f\"Name : {self.name} \\nUSN : {self.ID} \\nMarks : \\nSubject 1 : {self.marks[0]} \\nSubject 2 : {self.marks[1]} \\nSubject 3 : {self.marks[2]}\")\n",
        "        return self.name, self.ID, self.marks\n",
        "\n",
        "s1 = Records()\n",
        "s1.setData()\n",
        "list1 = s1.getData()\n",
        "print(list1)"
      ],
      "execution_count": null,
      "outputs": [
        {
          "name": "stdout",
          "output_type": "stream",
          "text": [
            "Enter the name of the student : ABHI K\n",
            "Enter the USN of the student : 75\n",
            "Enter the marks for subject 1 : 45\n",
            "Enter the marks for subject 2 : 46\n",
            "Enter the marks for subject 3 : 47\n",
            "Name : ABHI K \n",
            "USN : 75 \n",
            "Marks : \n",
            "Subject 1 : 45 \n",
            "Subject 2 : 46 \n",
            "Subject 3 : 47\n",
            "('ABHI K', 75, ['45', '46', '47'])\n"
          ]
        }
      ]
    },
    {
      "cell_type": "markdown",
      "metadata": {
        "id": "dFH6Q75WUoqo"
      },
      "source": [
        "# Problem-5"
      ]
    },
    {
      "cell_type": "code",
      "metadata": {
        "colab": {
          "background_save": true,
          "base_uri": "https://localhost:8080/"
        },
        "id": "wAv04kJBUssN",
        "outputId": "08199f14-e170-423a-d0a9-7eef3bf446a4"
      },
      "source": [
        "class Patient:\n",
        "    def setData(self):\n",
        "        self.name = input(\"Enter the name of the patient : \")\n",
        "        self.dateOfAdmission = input(\"Enter the date of admission : \")\n",
        "        self.symptoms = input(\"Enter all the symptoms : \").split(\" \")\n",
        "        self.oxygenLevel = int(input(\"Enter the oxygen level of the patient : \"))\n",
        "        self.dateOfDischarge = input(\"Enter the date of discharge : \")\n",
        "\n",
        "    def getData(self):\n",
        "        print(f\"\\nName : {self.name} \\nDate of Admission : {self.dateOfAdmission} \\nSymptoms : {self.symptoms} \\nOxygen Level : {self.oxygenLevel} \\nDate of Discharge : {self.dateOfDischarge}\\n\")\n",
        "        return self.name, self.dateOfAdmission, self.symptoms, self.oxygenLevel, self.dateOfDischarge\n",
        "\n",
        "    def checkSeverity(self):\n",
        "        if self.oxygenLevel < 90:\n",
        "            print(\"Patient's condition is severe.\")\n",
        "        else:\n",
        "            print(\"Patient is doing fine.\")\n",
        "\n",
        "\n",
        "class Hospital:    \n",
        "    def __init__(self):\n",
        "        self.listOfPatients = []\n",
        "        self.oxygenSupport = []\n",
        "\n",
        "    def addPatient(self):\n",
        "        temp = Patient()\n",
        "        temp.setData()\n",
        "        if temp.oxygenLevel < 90:\n",
        "            self.oxygenSupport.append(1)\n",
        "        else:\n",
        "            self.oxygenSupport.append(0)\n",
        "        self.listOfPatients.append(temp)\n",
        "\n",
        "    def checkSeverity(self):\n",
        "        name = input(\"Enter the name of the patient : \")\n",
        "        for i in range(0, len(self.listOfPatients)):\n",
        "            if name == self.listOfPatients[i].name:\n",
        "                self.listOfPatients[i].checkSeverity()\n",
        "                return 1\n",
        "        print(\"Patient not found\")\n",
        "\n",
        "\n",
        "    def getOxygenSupport(self):\n",
        "        return self.oxygenSupport.count(1)\n",
        "\n",
        "    def generalWard(self):\n",
        "        return self.oxygenSupport.count(0)\n",
        "\n",
        "    def totalPatients(self):\n",
        "        return len(self.listOfPatients)\n",
        "\n",
        "\n",
        "H1 = Hospital()\n",
        "\n",
        "for i in range(0, 2):\n",
        "    H1.addPatient()\n",
        "    H1.listOfPatients[i].getData()\n",
        "    H1.listOfPatients[i].checkSeverity()\n",
        "\n",
        "print(H1.getOxygenSupport())\n",
        "print(H1.generalWard())\n",
        "print(H1.totalPatients())\n",
        "H1.checkSeverity()"
      ],
      "execution_count": null,
      "outputs": [
        {
          "name": "stdout",
          "output_type": "stream",
          "text": [
            "\n",
            "Name : ABHI K \n",
            "Date of Admission : 22/08/2020 \n",
            "Symptoms : ['Fever'] \n",
            "Oxygen Level : 99 \n",
            "Date of Discharge : 22/10/2020\n",
            "\n",
            "Patient is doing fine.\n"
          ]
        }
      ]
    },
    {
      "cell_type": "markdown",
      "metadata": {
        "id": "hCMmRktqU5RA"
      },
      "source": [
        "# Problem-6"
      ]
    },
    {
      "cell_type": "code",
      "metadata": {
        "id": "R5NU4LlkU9TW",
        "colab": {
          "base_uri": "https://localhost:8080/"
        },
        "outputId": "7d77aea9-d7c8-4be7-f49e-fb8215742127"
      },
      "source": [
        "class Time:\n",
        "    def setToDefault(self):\n",
        "        self.hours = 0\n",
        "        self.minutes = 0\n",
        "        self.seconds = 0\n",
        "\n",
        "    def setToVal(self, hours, minutes, seconds):\n",
        "        if seconds > 59:\n",
        "            tempMinutes = seconds // 60\n",
        "            seconds = seconds % 60\n",
        "            self.seconds = seconds\n",
        "            self.minutes = tempMinutes + minutes\n",
        "        else:\n",
        "            self.seconds = seconds\n",
        "            self.minutes = minutes\n",
        "\n",
        "        if self.minutes > 59:\n",
        "            tempHours = self.minutes // 60\n",
        "            self.minutes = self.minutes % 60\n",
        "            self.hours = tempHours + hours\n",
        "        else:\n",
        "            self.minutes = minutes\n",
        "            self.hours = hours\n",
        "\n",
        "    def displayTime(self):\n",
        "        print(f\"Time : {self.hours}::{self.minutes}::{self.seconds}\")\n",
        "\n",
        "\n",
        "T1 = Time()\n",
        "T1.setToDefault()\n",
        "T1.displayTime()\n",
        "T1.setToVal(10, 60, 60)\n",
        "T1.displayTime()\n",
        "T1.setToVal(10, 120, 150)\n",
        "T1.displayTime()\n",
        "T1.setToVal(10, 120, 60)\n",
        "T1.displayTime()"
      ],
      "execution_count": 1,
      "outputs": [
        {
          "output_type": "stream",
          "name": "stdout",
          "text": [
            "Time : 0::0::0\n",
            "Time : 11::1::0\n",
            "Time : 12::2::30\n",
            "Time : 12::1::0\n"
          ]
        }
      ]
    },
    {
      "cell_type": "markdown",
      "metadata": {
        "id": "HknOT0d-VEPq"
      },
      "source": [
        "# Problem-7"
      ]
    },
    {
      "cell_type": "code",
      "metadata": {
        "id": "M4PiDxUDVJPh",
        "colab": {
          "base_uri": "https://localhost:8080/"
        },
        "outputId": "a8d18f6e-c670-4f68-d616-e27ac4ffad74"
      },
      "source": [
        "class Student:\n",
        "    def __init__(self, name, age, rollNo):\n",
        "        self.name = name\n",
        "        self.age = age\n",
        "        self.rollNo = rollNo\n",
        "\n",
        "    @classmethod\n",
        "    def compareStudentsAge(cls, std1, std2):\n",
        "        if std1.age == std2.age:\n",
        "            print(\"Age of the students are equal.\")\n",
        "        else:\n",
        "            print(\"Age of the students are not equal.\")\n",
        "\n",
        "std1 = Student(\"Rahul\", 21, 33)\n",
        "std2 = Student(\"Rohit\", 22, 74)\n",
        "\n",
        "Student.compareStudentsAge(std1, std2)"
      ],
      "execution_count": 2,
      "outputs": [
        {
          "output_type": "stream",
          "name": "stdout",
          "text": [
            "Age of the students are not equal.\n"
          ]
        }
      ]
    },
    {
      "cell_type": "markdown",
      "metadata": {
        "id": "oX3WCsmDVOz_"
      },
      "source": [
        "# Problem-8"
      ]
    },
    {
      "cell_type": "code",
      "metadata": {
        "id": "fRiyzLddVTvz",
        "colab": {
          "base_uri": "https://localhost:8080/"
        },
        "outputId": "e00f36ac-9fde-4046-e045-4b3e268bb8b9"
      },
      "source": [
        "class Student:\n",
        "    sem = 3\n",
        "    institute = \"IIIT Dharwad\"\n",
        "    \n",
        "    def setData(self):\n",
        "        self.name = input(\"Enter the name of the student : \")\n",
        "        self.id = int(input(\"Enter the USN of student : \"))\n",
        "\n",
        "    def getInstanceData(self):\n",
        "        print(f\"Name : {self.name} \\nUSN = {self.id}\")\n",
        "\n",
        "    @classmethod\n",
        "    def getClassData(cls):\n",
        "        print(f\"Semester : {cls.sem} \\nInstitute : {cls.institute} \\n\")\n",
        "\n",
        "    @staticmethod\n",
        "    def getExplanation():\n",
        "        print(\"Class variables namely sem and institute are printed using ClassMethod and Instance variables namely name and id are printed using Instance Method\")\n",
        "\n",
        "\n",
        "s1 = Student()\n",
        "s1.setData()\n",
        "s1.getInstanceData()\n",
        "Student.getClassData()\n",
        "Student.getExplanation()"
      ],
      "execution_count": 3,
      "outputs": [
        {
          "output_type": "stream",
          "name": "stdout",
          "text": [
            "Enter the name of the student : KESAV M\n",
            "Enter the USN of student : 75\n",
            "Name : KESAV M \n",
            "USN = 75\n",
            "Semester : 3 \n",
            "Institute : IIIT Dharwad \n",
            "\n",
            "Class variables namely sem and institute are printed using ClassMethod and Instance variables namely name and id are printed using Instance Method\n"
          ]
        }
      ]
    },
    {
      "cell_type": "markdown",
      "metadata": {
        "id": "IziEEI0zVaQE"
      },
      "source": [
        "# Problem-9"
      ]
    },
    {
      "cell_type": "code",
      "metadata": {
        "id": "mmtd7GWCVeD5",
        "colab": {
          "base_uri": "https://localhost:8080/"
        },
        "outputId": "5fdf8db8-3918-4700-b4d0-6224f32f07c9"
      },
      "source": [
        "class Student:\n",
        "    def setData(self):\n",
        "        self.Name = input(\"Enter the name : \")\n",
        "        self.ID = int(input(\"Enter the Roll Number : \"))\n",
        "        self.sem = int(input(\"Enter the semester number : \"))\n",
        "        self.nLaptop = int(input(\"Enter the number of laptops : \"))\n",
        "        self.listLaptop = []\n",
        "        for i in range (0, self.nLaptop):\n",
        "            tempObj = self.Laptop()\n",
        "            self.listLaptop.append(tempObj)\n",
        "\n",
        "    class Laptop:\n",
        "        def __init__(self):\n",
        "            self.cpu = input(\"Enter the name of the CPU : \")\n",
        "            self.ram = input(\"Enter the RAM of the Laptop : \")\n",
        "            self.hardDisk = input(\"Enter the size of hard disk : \")\n",
        "            self.display = input(\"Enter the display resolution : \")\n",
        "        \n",
        "        def getData(self):\n",
        "            print(f\"\\nCPU : {self.cpu} \\nRAM : {self.ram} \\nHard Disk : {self.hardDisk} \\nDisplay Resolution : {self.display} \\n\")\n",
        "\n",
        "    def getData(self):\n",
        "        print(f\"\\nName : {self.Name} \\nUSN : {self.ID} \\nSemester : {self.sem} \\nNumber of Laptops : {self.nLaptop}\")\n",
        "        for i in range(0, self.nLaptop):\n",
        "            print(f\"Details of {i+1}th laptop : \")\n",
        "            self.listLaptop[i].getData()\n",
        "\n",
        "S1 = Student()\n",
        "S1.setData()\n",
        "S1.getData()"
      ],
      "execution_count": 4,
      "outputs": [
        {
          "output_type": "stream",
          "name": "stdout",
          "text": [
            "Enter the name : SAGAR A\n",
            "Enter the Roll Number : 20\n",
            "Enter the semester number : 3\n",
            "Enter the number of laptops : 2\n",
            "Enter the name of the CPU : I5\n",
            "Enter the RAM of the Laptop : 16\n",
            "Enter the size of hard disk : 556\n",
            "Enter the display resolution : 1080\n",
            "Enter the name of the CPU : I3\n",
            "Enter the RAM of the Laptop : 8\n",
            "Enter the size of hard disk : 556\n",
            "Enter the display resolution : 1080\n",
            "\n",
            "Name : SAGAR A \n",
            "USN : 20 \n",
            "Semester : 3 \n",
            "Number of Laptops : 2\n",
            "Details of 1th laptop : \n",
            "\n",
            "CPU : I5 \n",
            "RAM : 16 \n",
            "Hard Disk : 556 \n",
            "Display Resolution : 1080 \n",
            "\n",
            "Details of 2th laptop : \n",
            "\n",
            "CPU : I3 \n",
            "RAM : 8 \n",
            "Hard Disk : 556 \n",
            "Display Resolution : 1080 \n",
            "\n"
          ]
        }
      ]
    }
  ]
}
